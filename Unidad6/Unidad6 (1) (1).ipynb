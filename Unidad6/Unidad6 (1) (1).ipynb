{
  "metadata": {
    "kernelspec": {
      "name": "python",
      "display_name": "Python (Pyodide)",
      "language": "python"
    },
    "language_info": {
      "codemirror_mode": {
        "name": "python",
        "version": 3
      },
      "file_extension": ".py",
      "mimetype": "text/x-python",
      "name": "python",
      "nbconvert_exporter": "python",
      "pygments_lexer": "ipython3",
      "version": "3.8"
    }
  },
  "nbformat_minor": 5,
  "nbformat": 4,
  "cells": [
    {
      "id": "860f259f-e64e-4ac4-805f-f13606fda27c",
      "cell_type": "code",
      "source": "# convertir de int a float\nx = 5\ny = float(x)\nprint(y) \nprint(type(y))",
      "metadata": {
        "trusted": true
      },
      "outputs": [
        {
          "name": "stdout",
          "output_type": "stream",
          "text": "5.0\n<class 'float'>\n"
        }
      ],
      "execution_count": 10
    },
    {
      "id": "205e27c1-1c6c-46d9-a5fa-af6ea8ceeeec",
      "cell_type": "code",
      "source": "#de float a int\na = 5.9\nb = int(a)\nprint(b) \nprint(type(b))",
      "metadata": {
        "trusted": true
      },
      "outputs": [
        {
          "name": "stdout",
          "output_type": "stream",
          "text": "5\n<class 'int'>\n"
        }
      ],
      "execution_count": 3
    },
    {
      "id": "d3832f74-607f-433a-8ca7-8f7fe376f190",
      "cell_type": "code",
      "source": "# str a int\na = \"123\"\nn = int(a)\nprint(n) \nprint(type(n)) \nn + 20.5",
      "metadata": {
        "trusted": true
      },
      "outputs": [
        {
          "name": "stdout",
          "output_type": "stream",
          "text": "123\n<class 'int'>\n"
        },
        {
          "execution_count": 15,
          "output_type": "execute_result",
          "data": {
            "text/plain": "143.5"
          },
          "metadata": {}
        }
      ],
      "execution_count": 15
    },
    {
      "id": "7704fc55-da28-4e34-aef3-39275086c12b",
      "cell_type": "code",
      "source": "# de int a str\nnum = 456\ntexto = str(num)\nprint(texto)\nprint(type(texto))",
      "metadata": {
        "trusted": true
      },
      "outputs": [
        {
          "name": "stdout",
          "output_type": "stream",
          "text": "456\n<class 'str'>\n"
        }
      ],
      "execution_count": 5
    },
    {
      "id": "5524ce13-ffc0-4272-b1ff-d740e2c08416",
      "cell_type": "code",
      "source": "#Mencione las diferencias que observa\nel tipo de variables y que se declaran",
      "metadata": {
        "trusted": true
      },
      "outputs": [
        {
          "execution_count": 6,
          "output_type": "execute_result",
          "data": {
            "text/plain": "' '"
          },
          "metadata": {}
        }
      ],
      "execution_count": 6
    },
    {
      "id": "723d0e22-9936-46ac-a979-5bf05d81738c",
      "cell_type": "code",
      "source": "#convertir string a número para poder hacer operaciones\nentrada = (\"1\") \nnumero = int(entrada)\ndoble = numero * 2\nprint(f\"El doble es: {doble}\")\n\n",
      "metadata": {
        "trusted": true
      },
      "outputs": [
        {
          "name": "stdout",
          "output_type": "stream",
          "text": "El doble es: 2\n"
        }
      ],
      "execution_count": 7
    },
    {
      "id": "b4539ca4-65fb-4af1-baea-f91d1f535351",
      "cell_type": "code",
      "source": "# string a datos\ndatos = [\"1\", \"2\", \"3\"]\nnumeros = list(map(int, datos))\nprint(numeros) ",
      "metadata": {
        "trusted": true
      },
      "outputs": [
        {
          "name": "stdout",
          "output_type": "stream",
          "text": "[1, 2, 3]\n"
        }
      ],
      "execution_count": 8
    },
    {
      "id": "b4fd2ab5-fa6c-49c3-a55e-076175c428c2",
      "cell_type": "code",
      "source": "''' Realiza los siguientes programas y súbelos a github.\n1. al usuario una temperatura en Celsius (como string) y conviértela a float. Luego calcula y muestra la temperatura en Fahrenheit con esta fórmula:\nFahrenheit = (Celsius × 9/5) + 32\n\n2. Pide un número al usuario (puede ser entero o decimal), conviértelo a string y muestra cuántos caracteres.\n''' ",
      "metadata": {
        "trusted": true,
        "scrolled": true
      },
      "outputs": [
        {
          "execution_count": 9,
          "output_type": "execute_result",
          "data": {
            "text/plain": "' Realiza los siguientes programas y súbelos a github.\\n1. al usuario una temperatura en Celsius (como string) y conviértela a float. Luego calcula y muestra la temperatura en Fahrenheit con esta fórmula:\\nFahrenheit = (Celsius × 9/5) + 32\\n\\n2. Pide un número al usuario (puede ser entero o decimal), conviértelo a string y muestra cuántos caracteres.\\n'"
          },
          "metadata": {}
        }
      ],
      "execution_count": 9
    },
    {
      "id": "ae26c86e-d132-4384-9ca8-ee102b39aed5",
      "cell_type": "code",
      "source": "def tenperatura(celsius_str):\n    try:\n        celsius_float = float(celsius_str)\n    except ValueError:\n        return \"Error.\"\n    farenhit = (celsius_float * 9/5) + 32\n    return f\"La temperatura farenhit es: {farenhit:.2f}\"\nprint(convertir_celsius_a_fahrenheit('25'))\n",
      "metadata": {
        "trusted": true
      },
      "outputs": [
        {
          "name": "stdout",
          "output_type": "stream",
          "text": "La temperatura en Fahrenheit es: 77.00\n"
        }
      ],
      "execution_count": 13
    },
    {
      "id": "78e9c24f-35d1-4c38-843c-3cc97a384c40",
      "cell_type": "code",
      "source": "def contar_digitos_numero(numero):\n    numero_str = str(numero)\n    return f\"El numero {numero} tiene {len(numero_str)} digitos.\"\nprint(contar_caracteres_numero(666666))\n",
      "metadata": {
        "trusted": true
      },
      "outputs": [
        {
          "name": "stdout",
          "output_type": "stream",
          "text": "El número 666666 tiene 6 caracteres.\n"
        }
      ],
      "execution_count": 17
    },
    {
      "id": "ae235d60-3940-4fcd-bb98-56eddd34322c",
      "cell_type": "code",
      "source": "",
      "metadata": {
        "trusted": true
      },
      "outputs": [],
      "execution_count": null
    },
    {
      "id": "3f602d7d-7801-4475-9cb8-519e16e5cefc",
      "cell_type": "code",
      "source": "",
      "metadata": {
        "trusted": true
      },
      "outputs": [],
      "execution_count": null
    },
    {
      "id": "eafe33d0-c156-462d-a2ad-37e0fd421f64",
      "cell_type": "code",
      "source": "",
      "metadata": {
        "trusted": true
      },
      "outputs": [],
      "execution_count": null
    },
    {
      "id": "06d6909e-78c2-4709-a609-44d2b6d6cf2f",
      "cell_type": "code",
      "source": "",
      "metadata": {
        "trusted": true
      },
      "outputs": [],
      "execution_count": null
    },
    {
      "id": "450418fd-87f3-48a4-b6aa-74fae9ab8985",
      "cell_type": "code",
      "source": "",
      "metadata": {
        "trusted": true
      },
      "outputs": [],
      "execution_count": null
    },
    {
      "id": "6551e60a-6272-475d-8476-a6af4b1d55d9",
      "cell_type": "code",
      "source": "z",
      "metadata": {
        "trusted": true
      },
      "outputs": [],
      "execution_count": null
    }
  ]
}